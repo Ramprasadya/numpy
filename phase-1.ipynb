{
 "cells": [
  {
   "cell_type": "code",
   "execution_count": 3,
   "id": "8c337d1d",
   "metadata": {},
   "outputs": [],
   "source": [
    "import numpy as np"
   ]
  },
  {
   "cell_type": "code",
   "execution_count": 14,
   "id": "22f59233",
   "metadata": {},
   "outputs": [
    {
     "name": "stdout",
     "output_type": "stream",
     "text": [
      "1D Array:  [1 2 3 4 5]\n",
      "2D array:  [[1 2 3]\n",
      " [4 5 6]]\n"
     ]
    }
   ],
   "source": [
    "arr_1d = np.array([1,2,3,4,5])\n",
    "print(\"1D Array: \", arr_1d)\n",
    "\n",
    "arr_2d = np.array([[1,2,3],[4,5,6]])\n",
    "print(\"2D array: \", arr_2d)"
   ]
  },
  {
   "cell_type": "markdown",
   "id": "f35382dc",
   "metadata": {},
   "source": [
    "## List vs Array"
   ]
  },
  {
   "cell_type": "code",
   "execution_count": 19,
   "id": "d5dbf9c0",
   "metadata": {},
   "outputs": [
    {
     "name": "stdout",
     "output_type": "stream",
     "text": [
      "Python List multiplication [1, 2, 3, 1, 2, 3]\n",
      "Python array multiplication  [2 4 6]\n",
      "\n",
      " List operation time  0.12483811378479004\n",
      "\n",
      " Numpy operation time:  0.007062196731567383\n"
     ]
    }
   ],
   "source": [
    "py_list = [1,2,3]\n",
    "print(\"Python List multiplication\", py_list *2)\n",
    "\n",
    "\n",
    "\n",
    "np_array  = np.array([1,2,3])\n",
    "print(\"Python array multiplication \", np_array * 2)\n",
    "\n",
    "\n",
    "import time \n",
    "start = time.time()\n",
    "py_list = [i*2 for i in range(1000000)]\n",
    "print(\"\\n List operation time \", time.time() - start)\n",
    "\n",
    "\n",
    "start = time.time()\n",
    "np_array = np.arange(1000000) *2\n",
    "print(\"\\n Numpy operation time: \", time.time() - start)\n"
   ]
  },
  {
   "cell_type": "markdown",
   "id": "c7a5bb81",
   "metadata": {},
   "source": [
    "## Creating array from scrach "
   ]
  },
  {
   "cell_type": "code",
   "execution_count": null,
   "id": "b08b8d79",
   "metadata": {},
   "outputs": [
    {
     "name": "stdout",
     "output_type": "stream",
     "text": [
      "zeros arrray: \n",
      " [[0. 0. 0. 0.]\n",
      " [0. 0. 0. 0.]\n",
      " [0. 0. 0. 0.]]\n",
      "ones arrray: \n",
      " [[1. 1. 1. 1.]\n",
      " [1. 1. 1. 1.]\n",
      " [1. 1. 1. 1.]]\n",
      "full arrray: \n",
      " [[7 7]\n",
      " [7 7]]\n",
      "Random arrray: \n",
      " [[5.25173806 0.99333175 6.82029182]\n",
      " [3.2868716  8.89788984 5.39400643]]\n",
      "Sequience arrray: \n",
      " [ 0  1  2  3  4  5  6  7  8  9 10]\n"
     ]
    }
   ],
   "source": [
    "zeros = np.zeros((3,4))\n",
    "ones = np.ones((3,4))\n",
    "print(\"zeros arrray: \\n\", zeros)\n",
    "print(\"ones arrray: \\n\", ones)\n",
    "\n",
    "full = np.full((2,2), 7)\n",
    "print(\"full arrray: \\n\", full)\n",
    "\n",
    "random  = np.random.random((2,3)) * 10\n",
    "print(\"Random arrray: \\n\", random)\n",
    "\n",
    "sequence = np.arange(0, 11, 2)\n",
    "print(\"Sequience arrray: \\n\", sequence)\n",
    "\n"
   ]
  },
  {
   "cell_type": "markdown",
   "id": "6dc211ab",
   "metadata": {},
   "source": [
    "## vector , Matrics  tensor "
   ]
  },
  {
   "cell_type": "code",
   "execution_count": 39,
   "id": "1828a2bc",
   "metadata": {},
   "outputs": [
    {
     "name": "stdout",
     "output_type": "stream",
     "text": [
      "Vector  [1 2 3]\n",
      "matrix:  [[1 2 3]\n",
      " [4 5 6]]\n",
      "Tensor :  [[[1 2]\n",
      "  [3 4]]\n",
      "\n",
      " [[5 6]\n",
      "  [7 8]]]\n"
     ]
    }
   ],
   "source": [
    "vector  = np.array([1, 2, 3])\n",
    "print(\"Vector \", vector)\n",
    "\n",
    "## Two dimentional array\n",
    "matrix  = np.array([[1, 2, 3],\n",
    "                    [4, 5, 6]])\n",
    "\n",
    "print(\"matrix: \", matrix)\n",
    "\n",
    "## tensor \n",
    "tensor = np.array([[[1,2], [3,4]],\n",
    "                   [[5,6], [7,8]]])\n",
    "\n",
    "print(\"Tensor : \", tensor)"
   ]
  },
  {
   "cell_type": "markdown",
   "id": "17d85aec",
   "metadata": {},
   "source": [
    "## Aray properties "
   ]
  },
  {
   "cell_type": "code",
   "execution_count": 40,
   "id": "a36c5acb",
   "metadata": {},
   "outputs": [
    {
     "name": "stdout",
     "output_type": "stream",
     "text": [
      "Shape : (2, 3)\n",
      "Shape : 2\n",
      "Shape : 6\n",
      "Shape : int64\n"
     ]
    }
   ],
   "source": [
    "arr = np.array([[1,2,3],\n",
    "                [4,5,6]])\n",
    "\n",
    "print(\"Shape :\", arr.shape)\n",
    "print(\"Shape :\", arr.ndim)\n",
    "print(\"Shape :\", arr.size)\n",
    "print(\"Shape :\", arr.dtype)"
   ]
  },
  {
   "cell_type": "markdown",
   "id": "399053dc",
   "metadata": {},
   "source": [
    "## Array Reshaping "
   ]
  },
  {
   "cell_type": "code",
   "execution_count": null,
   "id": "d1516a5d",
   "metadata": {},
   "outputs": [
    {
     "name": "stdout",
     "output_type": "stream",
     "text": [
      "Original array  [ 0  1  2  3  4  5  6  7  8  9 10 11]\n",
      "\n",
      " Reshaped array  [[ 0  1  2  3]\n",
      " [ 4  5  6  7]\n",
      " [ 8  9 10 11]]\n",
      "\n",
      " Flattened Array [ 0  1  2  3  4  5  6  7  8  9 10 11]\n",
      "\n",
      " Reveled  [ 0  1  2  3  4  5  6  7  8  9 10 11]\n"
     ]
    }
   ],
   "source": [
    "arr =np.arange(12)\n",
    "print(\"Original array \", arr)\n",
    "\n",
    "reshaped = arr.reshape((3, 4))\n",
    "print(\"\\n Reshaped array \", reshaped)\n",
    "\n",
    "flattened = reshaped.flatten()\n",
    "print(\"\\n Flattened Array\", flattened)\n",
    "\n",
    "# revel (return view , insted of copy)\n",
    "reveled = reshaped.ravel()\n",
    "print(\"\\n Reveled \", reveled)\n",
    "\n",
    "# Transpose \n",
    "\n",
    "transpose = reshaped.T\n",
    "print(\"\\n Transpose \", transpose)"
   ]
  }
 ],
 "metadata": {
  "kernelspec": {
   "display_name": "Python 3",
   "language": "python",
   "name": "python3"
  },
  "language_info": {
   "codemirror_mode": {
    "name": "ipython",
    "version": 3
   },
   "file_extension": ".py",
   "mimetype": "text/x-python",
   "name": "python",
   "nbconvert_exporter": "python",
   "pygments_lexer": "ipython3",
   "version": "3.13.7"
  }
 },
 "nbformat": 4,
 "nbformat_minor": 5
}
