{
 "cells": [
  {
   "cell_type": "markdown",
   "id": "de5c291e",
   "metadata": {},
   "source": [
    "Numpy Array Operation"
   ]
  },
  {
   "cell_type": "code",
   "execution_count": 1,
   "id": "c72ea8ed",
   "metadata": {},
   "outputs": [],
   "source": [
    "import numpy as np"
   ]
  },
  {
   "cell_type": "code",
   "execution_count": 2,
   "id": "6c327fa8",
   "metadata": {},
   "outputs": [
    {
     "name": "stdout",
     "output_type": "stream",
     "text": [
      "Basic slicing  [3 4 5 6 7]\n",
      "With steps [2 4 6 8]\n",
      "Nagative indexing  8\n"
     ]
    }
   ],
   "source": [
    "arr = np.array([1, 2, 3, 4, 5, 6, 7, 8, 9, 10])\n",
    "print(\"Basic slicing \", arr[2:7])\n",
    "print(\"With steps\", arr[1:8:2])\n",
    "print(\"Nagative indexing \", arr[-3])"
   ]
  },
  {
   "cell_type": "markdown",
   "id": "a8e45f2d",
   "metadata": {},
   "source": [
    "## 2D Array"
   ]
  },
  {
   "cell_type": "code",
   "execution_count": 6,
   "id": "ea9932ae",
   "metadata": {},
   "outputs": [
    {
     "name": "stdout",
     "output_type": "stream",
     "text": [
      "Specific Element  5\n",
      "Entire row :  [3 4 5]\n",
      "Colimn target :  [2 4 7]\n"
     ]
    }
   ],
   "source": [
    "arr_2d = np.array([[1,2,3],\n",
    "                  [3,4,5],\n",
    "                  [6,7,8]])\n",
    "print(\"Specific Element \", arr_2d[1, 2])\n",
    "print(\"Entire row : \", arr_2d[1])\n",
    "print(\"Colimn target : \", arr_2d[:,1])"
   ]
  },
  {
   "cell_type": "markdown",
   "id": "dea5a25d",
   "metadata": {},
   "source": [
    "## Sorting "
   ]
  },
  {
   "cell_type": "code",
   "execution_count": 11,
   "id": "ed93afd0",
   "metadata": {},
   "outputs": [
    {
     "name": "stdout",
     "output_type": "stream",
     "text": [
      "Sorted Array :  [1 2 3 4 7 9]\n",
      "Sorted  2D Array by column  [[1 1]\n",
      " [2 2]\n",
      " [3 3]]\n"
     ]
    }
   ],
   "source": [
    "unsorted = np.array([3, 1, 4, 7, 9, 2])\n",
    "print(\"Sorted Array : \", np.sort(unsorted))\n",
    "\n",
    "arr_2d_unsorted = np.array([[3, 1], [1, 2], [2, 3]])\n",
    "print(\"Sorted  2D Array by column \", np.sort(arr_2d_unsorted, axis=0))"
   ]
  },
  {
   "cell_type": "markdown",
   "id": "79a59821",
   "metadata": {},
   "source": [
    "## Filtering "
   ]
  },
  {
   "cell_type": "code",
   "execution_count": 12,
   "id": "665f20a2",
   "metadata": {},
   "outputs": [
    {
     "name": "stdout",
     "output_type": "stream",
     "text": [
      "Even Numbers [ 2  4  6  8 10]\n"
     ]
    }
   ],
   "source": [
    "numbers = np.array([1, 2, 3, 4, 5, 6, 7, 8, 9, 10])\n",
    "even_number = numbers[numbers % 2 == 0]\n",
    "print(\"Even Numbers\", even_number)"
   ]
  },
  {
   "cell_type": "markdown",
   "id": "6cf44a56",
   "metadata": {},
   "source": [
    "Filter With Mask"
   ]
  },
  {
   "cell_type": "code",
   "execution_count": 13,
   "id": "d55e389e",
   "metadata": {},
   "outputs": [
    {
     "name": "stdout",
     "output_type": "stream",
     "text": [
      "Numbers greater than 5  [ 6  7  8  9 10]\n"
     ]
    }
   ],
   "source": [
    "mask = numbers >5\n",
    "print(\"Numbers greater than 5 \", numbers[mask])"
   ]
  },
  {
   "cell_type": "markdown",
   "id": "d0ba7c6e",
   "metadata": {},
   "source": [
    "## Fancy Indexing np.where "
   ]
  },
  {
   "cell_type": "code",
   "execution_count": null,
   "id": "6183198b",
   "metadata": {},
   "outputs": [
    {
     "name": "stdout",
     "output_type": "stream",
     "text": [
      "[1 3 5]\n",
      "NP where  [ 6  7  8  9 10]\n"
     ]
    }
   ],
   "source": [
    "indices = [0, 2, 4]\n",
    "print(numbers[indices])\n",
    "\n",
    "where_result = np.where(numbers > 5)\n",
    "print(\"NP where \", numbers[where_result])"
   ]
  },
  {
   "cell_type": "code",
   "execution_count": null,
   "id": "ed4677e5",
   "metadata": {},
   "outputs": [
    {
     "name": "stdout",
     "output_type": "stream",
     "text": [
      "[ 1  2  3  4  5 12  7 16  9 20]\n"
     ]
    }
   ],
   "source": [
    "condition_array = np.where(numbers >5 , numbers *2 , numbers)\n",
    "print(condition_array) "
   ]
  },
  {
   "cell_type": "markdown",
   "id": "7dfb4c10",
   "metadata": {},
   "source": [
    "## Adding And Removing data"
   ]
  },
  {
   "cell_type": "code",
   "execution_count": 22,
   "id": "898fa573",
   "metadata": {},
   "outputs": [
    {
     "name": "stdout",
     "output_type": "stream",
     "text": [
      "[1 2 3 4 5 6]\n"
     ]
    }
   ],
   "source": [
    "arr1 = np.array([1,2,3])\n",
    "arr2 = np.array([4,5,6])\n",
    "\n",
    "combined = np.concatenate((arr1, arr2))\n",
    "print(combined)"
   ]
  },
  {
   "cell_type": "markdown",
   "id": "69c3d345",
   "metadata": {},
   "source": [
    "## Array Comapatibility"
   ]
  },
  {
   "cell_type": "code",
   "execution_count": 24,
   "id": "9b577bb9",
   "metadata": {},
   "outputs": [
    {
     "name": "stdout",
     "output_type": "stream",
     "text": [
      "Compatibility shapes :  True\n"
     ]
    }
   ],
   "source": [
    "a = np.array([1, 2, 3])\n",
    "b = np.array([4, 5, 6])\n",
    "c = np.array([7, 8, 9])\n",
    "\n",
    "print(\"Compatibility shapes : \", a.shape == b.shape)"
   ]
  },
  {
   "cell_type": "markdown",
   "id": "b69c866d",
   "metadata": {},
   "source": [
    "Comapatibility Shapes False"
   ]
  },
  {
   "cell_type": "code",
   "execution_count": 29,
   "id": "4a36a243",
   "metadata": {},
   "outputs": [
    {
     "name": "stdout",
     "output_type": "stream",
     "text": [
      "[[1 2]\n",
      " [3 4]]\n",
      "[[1 2]\n",
      " [3 4]\n",
      " [5 6]\n",
      " [7 8]]\n",
      "With New Column :  [[1 2 7]\n",
      " [3 4 8]]\n"
     ]
    }
   ],
   "source": [
    "original = np.array([[1,2], [3, 4]])\n",
    "new_row = np.array([[5, 6], [7, 8]])\n",
    "\n",
    "with_new_row = np.vstack((original, new_row))\n",
    "print(original)\n",
    "print(with_new_row)\n",
    "\n",
    "new_col = np.array([[7], [8]])\n",
    "with_new_col = np.hstack((original, new_col))\n",
    "print(\"With New Column : \", with_new_col)\n",
    "\n"
   ]
  },
  {
   "cell_type": "code",
   "execution_count": 32,
   "id": "be9c9664",
   "metadata": {},
   "outputs": [
    {
     "name": "stdout",
     "output_type": "stream",
     "text": [
      "Array After deletion  [1 2 4 5]\n"
     ]
    }
   ],
   "source": [
    "arr = np.array([1, 2, 3, 4, 5])\n",
    "deleted = np.delete(arr, 2)\n",
    "print(\"Array After deletion \", deleted)"
   ]
  }
 ],
 "metadata": {
  "kernelspec": {
   "display_name": "Python 3",
   "language": "python",
   "name": "python3"
  },
  "language_info": {
   "codemirror_mode": {
    "name": "ipython",
    "version": 3
   },
   "file_extension": ".py",
   "mimetype": "text/x-python",
   "name": "python",
   "nbconvert_exporter": "python",
   "pygments_lexer": "ipython3",
   "version": "3.13.7"
  }
 },
 "nbformat": 4,
 "nbformat_minor": 5
}
