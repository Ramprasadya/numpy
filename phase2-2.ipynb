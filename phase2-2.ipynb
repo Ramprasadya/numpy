{
 "cells": [
  {
   "cell_type": "markdown",
   "id": "de5c291e",
   "metadata": {},
   "source": [
    "Numpy Array Operation"
   ]
  },
  {
   "cell_type": "code",
   "execution_count": 1,
   "id": "c72ea8ed",
   "metadata": {},
   "outputs": [],
   "source": [
    "import numpy as np"
   ]
  },
  {
   "cell_type": "code",
   "execution_count": 2,
   "id": "6c327fa8",
   "metadata": {},
   "outputs": [
    {
     "name": "stdout",
     "output_type": "stream",
     "text": [
      "Basic slicing  [3 4 5 6 7]\n",
      "With steps [2 4 6 8]\n",
      "Nagative indexing  8\n"
     ]
    }
   ],
   "source": [
    "arr = np.array([1, 2, 3, 4, 5, 6, 7, 8, 9, 10])\n",
    "print(\"Basic slicing \", arr[2:7])\n",
    "print(\"With steps\", arr[1:8:2])\n",
    "print(\"Nagative indexing \", arr[-3])"
   ]
  },
  {
   "cell_type": "markdown",
   "id": "a8e45f2d",
   "metadata": {},
   "source": [
    "## 2D Array"
   ]
  },
  {
   "cell_type": "code",
   "execution_count": 6,
   "id": "ea9932ae",
   "metadata": {},
   "outputs": [
    {
     "name": "stdout",
     "output_type": "stream",
     "text": [
      "Specific Element  5\n",
      "Entire row :  [3 4 5]\n",
      "Colimn target :  [2 4 7]\n"
     ]
    }
   ],
   "source": [
    "arr_2d = np.array([[1,2,3],\n",
    "                  [3,4,5],\n",
    "                  [6,7,8]])\n",
    "print(\"Specific Element \", arr_2d[1, 2])\n",
    "print(\"Entire row : \", arr_2d[1])\n",
    "print(\"Colimn target : \", arr_2d[:,1])"
   ]
  }
 ],
 "metadata": {
  "kernelspec": {
   "display_name": "Python 3",
   "language": "python",
   "name": "python3"
  },
  "language_info": {
   "codemirror_mode": {
    "name": "ipython",
    "version": 3
   },
   "file_extension": ".py",
   "mimetype": "text/x-python",
   "name": "python",
   "nbconvert_exporter": "python",
   "pygments_lexer": "ipython3",
   "version": "3.13.7"
  }
 },
 "nbformat": 4,
 "nbformat_minor": 5
}
